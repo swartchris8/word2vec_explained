{
 "cells": [
  {
   "cell_type": "markdown",
   "metadata": {},
   "source": [
    "# Continous Bag of Words (CBOW)\n",
    "\n",
    "The continous bag of words model given a context of words predicts the most likely word resulting in that context so with the example sentence:\n",
    "\n",
    "North Korea is in peace talks with South Korea.\n",
    "\n",
    "With a context of window size two for the word **with** the context would be **peace, talks, South, Korea**. The CBOW fits a model that will try to predict the target word based on the context supplied to it.\n"
   ]
  },
  {
   "cell_type": "markdown",
   "metadata": {},
   "source": [
    "## Motivation\n",
    "\n",
    "Atomic representation of words loose a lot of linguistic information. We need a representation that encapsulates context somewhat. \n",
    "\n",
    "The word2vec can also be interpreted as a weigh of representing words distributedly accross shared weights. This interpretation can be mapped to a neurological analogy of having different neurons activated and inhibited depending on the stimuli.\n",
    "\n",
    "## What can it be used for?\n",
    "\n",
    "word2vec is often used as a way to represent words which will be consumed by other deep learning models as the vector embeddings can be updated by these models to suit the task at hand.\n",
    "\n",
    "A semantic vector space model can also be used "
   ]
  },
  {
   "cell_type": "markdown",
   "metadata": {},
   "source": [
    "### Simple one word context CBOW\n",
    "\n",
    "![Simple one context cbow](simple_cbow.png)"
   ]
  },
  {
   "cell_type": "markdown",
   "metadata": {},
   "source": [
    "\n",
    "\n",
    "Initially let's tackle a simplified version of this problem limiting the context to one word. We will encode these words through the hidden layer:\n",
    "$$h=x\\cdot W^T$$\n",
    "Where $x$ is a one hot encoded representation (shape of 1,vocabulary_size) of our context word, $W$ is a matrix (shape of vocabulary_size, embedding_size) where each row represents a vector embedding for a word. Finally we apply another weight matrix $W'$ (shape of embedding_size, vocabulary_size) to produce a score:\n",
    "$$u=h\\cdot W'^T$$\n",
    "Which we then transform witht the softmax function to get a posterior probability distribution:\n",
    "$$y = softmax(u)$$\n",
    "$y_k$ is the posterior distribution of words:\n",
    "$$p(w_k|w_{input}) = y_k = \\dfrac{e^{u_k}}{\\sum_{i=1}^{vocabulary\\_size} e^{u_i}} $$\n",
    "\n",
    "Now let's look at a visualisation to see how this works:\n",
    "[wevi demo](https://ronxin.github.io/wevi/)"
   ]
  },
  {
   "cell_type": "code",
   "execution_count": 56,
   "metadata": {},
   "outputs": [],
   "source": [
    "import numpy as np\n",
    "from sklearn.feature_extraction.text import CountVectorizer\n",
    "import matplotlib"
   ]
  },
  {
   "cell_type": "code",
   "execution_count": 57,
   "metadata": {},
   "outputs": [],
   "source": [
    "vectorizer = CountVectorizer()\n",
    "corpus = [\n",
    "    'This is the first document.',\n",
    "    'This is the second second document.',\n",
    "    'And the third one.',\n",
    "    'Is this the first document?',\n",
    "]\n",
    "X = vectorizer.fit_transform(corpus)"
   ]
  },
  {
   "cell_type": "code",
   "execution_count": 58,
   "metadata": {},
   "outputs": [
    {
     "name": "stdout",
     "output_type": "stream",
     "text": [
      "This is the first document.\n",
      "[[0 0 0 0 0 0 0 0 1]\n",
      " [0 0 0 1 0 0 0 0 0]\n",
      " [0 0 0 0 0 0 1 0 0]\n",
      " [0 0 1 0 0 0 0 0 0]\n",
      " [0 1 0 0 0 0 0 0 0]]\n"
     ]
    }
   ],
   "source": [
    "test_words = corpus[0].split()\n",
    "X_test_words = vectorizer.transform(test_words)\n",
    "X_test_array = X_test_words.toarray()\n",
    "print(\"This is the first document.\")\n",
    "print(X_test_array)"
   ]
  },
  {
   "cell_type": "code",
   "execution_count": 59,
   "metadata": {},
   "outputs": [],
   "source": [
    "context = X_test_array[0] # This\n",
    "target = X_test_array[1] # is"
   ]
  },
  {
   "cell_type": "markdown",
   "metadata": {},
   "source": [
    "I have named $W=W_1$ and $W'=W_2$ in the code as I find this is a bit more intuitive"
   ]
  },
  {
   "cell_type": "code",
   "execution_count": 60,
   "metadata": {},
   "outputs": [],
   "source": [
    "vocabulary_size = len(vectorizer.vocabulary_)\n",
    "embedding_size = 5\n",
    "\n",
    "np.random.seed(42)\n",
    "W1 = np.random.rand(vocabulary_size, embedding_size)\n",
    "W2 = np.random.rand(embedding_size, vocabulary_size)\n",
    "\n",
    "def softmax(x):\n",
    "    \"\"\"Compute softmax values for each sets of scores in x.\"\"\"\n",
    "    e_x = np.exp(x - np.max(x))\n",
    "    return e_x / e_x.sum()"
   ]
  },
  {
   "cell_type": "code",
   "execution_count": 61,
   "metadata": {},
   "outputs": [
    {
     "name": "stdout",
     "output_type": "stream",
     "text": [
      "[0.07722179 0.16775651 0.09715749 0.11029567 0.10450131 0.07589111\n",
      " 0.09979523 0.08159007 0.18579081]\n",
      "[0.11029567]\n"
     ]
    }
   ],
   "source": [
    "x = context\n",
    "label = target\n",
    "learning_rate = 0.1\n",
    "\n",
    "h = np.dot(W1.T, x)\n",
    "u = np.dot(W2.T, h)\n",
    "y_prediction = softmax(u)\n",
    "\n",
    "print(y_prediction)\n",
    "print(y_prediction[label==1])"
   ]
  },
  {
   "cell_type": "markdown",
   "metadata": {},
   "source": [
    "### Training objective\n",
    "\n",
    "For one sample our training objective is to maximise the probability of observing the target word given the input word $w_{input}$:\n",
    "$$max(p(w_{target}|w_{input}) = max(y_{k*})$$\n",
    "$$ = max(log(y_{k*}))$$\n",
    "$$ = max(log(\\dfrac{e^{u_k*}}{\\sum_{i=1}^{vocabulary\\_size} e^{u_i}}))$$\n",
    "\n",
    "#### Loss function\n",
    "\n",
    "As such we can define our loss function as:\n",
    "$$E(u_{k*}) = -log(\\dfrac{e^{u_{k*}}}{\\sum_{i=1}^{vocabulary\\_size} e^{u_i}})$$\n",
    "$$E = -log(softmax) $$\n",
    "\n",
    "Where $k*$ represents the index in the output layer for $w_target$\n",
    "\n",
    "\n",
    "#### Derivative of the loss function\n",
    "\n",
    "Now let's derive the derivative of the loss function with regards to the ${k*}$th unit's net input $u_{k*}$: $\\dfrac{\\delta E}{\\delta u_{k*}}$\n",
    "\n",
    "With $softmax(u_j) = \\dfrac{e^{u_j}}{\\sum_{i=1}^{vocabulary\\_size} e^{u_i}}$\n",
    "\n",
    "First of all let's subsitute the sum from the $softmax$ function:\n",
    "\n",
    "$$\\sigma = {\\sum_{i=1}^{vocabulary\\_size} e^{u_i}}$$\n",
    "\n",
    "For $u_j = u_{k*}$ we can use the quotient rule $f(x) = g(x)/h(x)$ => $f'(x) = \\dfrac{g'(x)h(x)-g(x)h'(x)}{[h(x)]^2]}$:\n",
    "\n",
    "$$ \\dfrac{\\delta softmax}{\\delta u_{k*}} = \\dfrac{e^{u_j}\\sigma - e^{2u_j}}{\\sigma^2}$$\n",
    "\n",
    "For $u_j \\neq u_{k*} $ then $e^{u_j}$ is treated as a constant:\n",
    "\n",
    "$$ \\dfrac{\\delta softmax}{\\delta u_{k*}} = \\dfrac{-e^{u_j} e^{u_k*}}{\\sigma^2} $$\n",
    "\n",
    "Now that we are done bottom up let's look at the derivative top down:\n",
    "\n",
    "$$ \\dfrac{\\delta E}{\\delta softmax} = -(\\dfrac{1}{softmax(u_{k*})})$$\n",
    "\n",
    "Using the chain rule:\n",
    "\n",
    "$$ \\dfrac{\\delta E}{\\delta u_{k*}} = - \\dfrac{1}{\\dfrac{e^{u_j}}{\\sigma}} \\dfrac{\\delta softmax}{\\delta u_{k*}} = -\\dfrac{\\sigma}{e^{u_j}} \\dfrac{\\delta softmax}{\\delta u_{k*}}$$\n",
    "\n",
    "Considering $u_j$ and $u_{k*}$ if $u_j = u_{k*}$:\n",
    "\n",
    "$$ \\dfrac{\\delta E}{\\delta u_{k*}} = \\dfrac{e^{u_{k*}} - \\sigma}{\\sigma} = \\dfrac{e^{u_{k*}}}{\\sigma} - 1 = softmax -1 $$\n",
    "\n",
    "And for $u_j \\neq u_{k*}$:\n",
    "\n",
    "$$ \\dfrac{\\delta E}{\\delta u_{k*}} = \\dfrac{e^{u_{k*}}}{\\sigma} = softmax$$\n",
    "\n",
    "These two equations can be combined using the Kronecker delta, which is a function that produces one if the two variables are equalo otherwise 0:\n",
    "\n",
    "$$ \\dfrac{\\delta E}{\\delta u_{k*}} = softmax - \\delta_{jk*} $$\n",
    "\n",
    "The Kronecker delta is the same here as our one hot vector labels as they will only be 1 at the index $k*$ as such this is the same as the prediction error $e_k*$ of the output layer:\n",
    "\n",
    "$$ y_{k*} - target $$\n",
    "\n",
    "I won't derive the rest of the derivatives but after this bit you just need to continue moving down the layers to derive $\\dfrac{\\delta E}{\\delta W'}$ and $\\dfrac{\\delta E}{\\delta W}$\n",
    "\n",
    "For $\\dfrac{\\delta E}{\\delta W'}$ based on the above derived derivative E with respect to the output of the output layer we need to take the derivative of the output layer with regards to W'.\n",
    "\n",
    "For $\\dfrac{\\delta E}{\\delta W}$:\n",
    "You need to take the derivative of E with regards to the output of the hidden layer and then the derivative of the hidden layer with regards to W. \n"
   ]
  },
  {
   "cell_type": "code",
   "execution_count": 62,
   "metadata": {},
   "outputs": [],
   "source": [
    "e = y_prediction - label \n",
    "dW2 = np.outer(h, e)\n",
    "dW1 = np.outer(x, np.dot(W2, e)) # np.dot(W2, e) is the sum of all output vectors\n",
    "                                # weighted by their prediction error\n",
    "\n",
    "new_W1 = W1 - learning_rate * dW1\n",
    "new_W2 = W2 - learning_rate * dW2\n",
    "\n",
    "W1 = new_W1\n",
    "W2 = new_W2"
   ]
  },
  {
   "cell_type": "code",
   "execution_count": 63,
   "metadata": {},
   "outputs": [
    {
     "name": "stdout",
     "output_type": "stream",
     "text": [
      "softmax output: [0.07561359 0.16460368 0.09768569 0.12485411 0.10430454 0.0752792\n",
      " 0.09666628 0.07926576 0.18172715]\n",
      "target_probability: [0.12485411]\n",
      "loss: [-0.87514589]\n"
     ]
    }
   ],
   "source": [
    "x = context\n",
    "label = target\n",
    "learning_rate = 0.1\n",
    "\n",
    "h = np.dot(W1.T, x)\n",
    "u = np.dot(W2.T, h)\n",
    "y_prediction = softmax(u)\n",
    "\n",
    "print(\"softmax output:\", y_prediction)\n",
    "print(\"target_probability:\",y_prediction[label==1])\n",
    "e = y_prediction - label\n",
    "loss = e[label==1]\n",
    "print(\"loss:\",e[label==1])"
   ]
  },
  {
   "cell_type": "code",
   "execution_count": 72,
   "metadata": {},
   "outputs": [],
   "source": [
    "def cbow_train(context, target, W1, W2, learning_rate = 0.1):\n",
    "    x = context\n",
    "    label = target\n",
    "\n",
    "    h = np.dot(W1.T, x)\n",
    "    u = np.dot(W2.T, h)\n",
    "    y_prediction = softmax(u)\n",
    "\n",
    "    print(\"softmax output:\", y_prediction)\n",
    "    print(\"target_probability:\",y_prediction[label==1])\n",
    "    e = y_prediction - label\n",
    "    loss = -e[label==1]\n",
    "    print(\"loss:\",e[label==1])\n",
    "    dW2 = np.outer(h, e)\n",
    "    dW1 = np.outer(x, np.dot(W2, e)) # np.dot(W2, e) is a vector of all output vectors\n",
    "                                    # weighted by their prediction error\n",
    "\n",
    "    new_W1 = W1 - learning_rate * dW1\n",
    "    new_W2 = W2 - learning_rate * dW2\n",
    "\n",
    "    return new_W1, new_W2, loss\n",
    "    \n",
    "def cbow_predict(context, target, W1, W2, learning_rate = 0.1):\n",
    "    x = context\n",
    "    label = target\n",
    "\n",
    "    h = np.dot(W1.T, x)\n",
    "    u = np.dot(W2.T, h)\n",
    "    y_prediction = softmax(u)\n",
    "\n",
    "    print(\"softmax output:\", y_prediction)\n",
    "    print(\"target_probability:\",y_prediction[label==1])"
   ]
  },
  {
   "cell_type": "code",
   "execution_count": 73,
   "metadata": {},
   "outputs": [
    {
     "name": "stdout",
     "output_type": "stream",
     "text": [
      "softmax output: [0.03648628 0.13501279 0.21727725 0.32866004 0.06141817 0.04080194\n",
      " 0.05002724 0.03227341 0.09804288]\n",
      "target_probability: [0.32866004]\n",
      "loss: [-0.67133996]\n",
      "softmax output: [0.05928928 0.13348921 0.12995741 0.05617348 0.07371903 0.04959353\n",
      " 0.33687702 0.10259402 0.05830701]\n",
      "target_probability: [0.33687702]\n",
      "loss: [-0.66312298]\n",
      "softmax output: [0.03222323 0.04765932 0.36232103 0.21628521 0.05107822 0.04622685\n",
      " 0.12251876 0.05453912 0.06714825]\n",
      "target_probability: [0.36232103]\n",
      "loss: [-0.63767897]\n",
      "softmax output: [0.04225933 0.58667939 0.03610786 0.06233727 0.03739199 0.02272349\n",
      " 0.12364547 0.03241885 0.05643636]\n",
      "target_probability: [0.58667939]\n",
      "loss: [-0.41332061]\n",
      "end loop\n",
      "softmax output: [0.03272583 0.12567781 0.22419469 0.36357214 0.05602717 0.03687682\n",
      " 0.04275153 0.02833876 0.08983526]\n",
      "target_probability: [0.36357214]\n",
      "loss: [-0.63642786]\n",
      "softmax output: [0.05453304 0.12842343 0.12817238 0.04800672 0.06792433 0.04533907\n",
      " 0.37855792 0.09700737 0.05203575]\n",
      "target_probability: [0.37855792]\n",
      "loss: [-0.62144208]\n",
      "softmax output: [0.02826564 0.03993817 0.40440591 0.21592046 0.04580612 0.04109397\n",
      " 0.11718195 0.04848063 0.05890714]\n",
      "target_probability: [0.40440591]\n",
      "loss: [-0.59559409]\n",
      "softmax output: [0.03671868 0.63427997 0.0297975  0.05736899 0.032174   0.01946268\n",
      " 0.11370171 0.02741954 0.04907694]\n",
      "target_probability: [0.63427997]\n",
      "loss: [-0.36572003]\n",
      "end loop\n",
      "softmax output: [0.02916654 0.11612178 0.22753761 0.40102751 0.05072356 0.03307291\n",
      " 0.03587796 0.0247113  0.08176082]\n",
      "target_probability: [0.40102751]\n",
      "loss: [-0.59897249]\n",
      "softmax output: [0.04958194 0.12160538 0.12484396 0.04015225 0.06187573 0.0409791\n",
      " 0.42442787 0.09054694 0.04598683]\n",
      "target_probability: [0.42442787]\n",
      "loss: [-0.57557213]\n",
      "softmax output: [0.02466957 0.03307317 0.44709862 0.21248383 0.0407524  0.03634404\n",
      " 0.11130623 0.04289336 0.05137876]\n",
      "target_probability: [0.44709862]\n",
      "loss: [-0.55290138]\n",
      "softmax output: [0.03189256 0.6766471  0.02442173 0.05267713 0.02768405 0.0166883\n",
      " 0.10410848 0.02323248 0.04264818]\n",
      "target_probability: [0.6766471]\n",
      "loss: [-0.3233529]\n",
      "end loop\n",
      "softmax output: [0.02584911 0.10665137 0.22691457 0.44053151 0.04560997 0.02945599\n",
      " 0.02961981 0.02142146 0.07394622]\n",
      "target_probability: [0.44053151]\n",
      "loss: [-0.55946849]\n",
      "softmax output: [0.0445655  0.11338973 0.12005197 0.03292279 0.05572641 0.03662226\n",
      " 0.473064   0.08339941 0.04025792]\n",
      "target_probability: [0.473064]\n",
      "loss: [-0.526936]\n",
      "softmax output: [0.02145939 0.02715303 0.48961019 0.20617584 0.03603816 0.03202773\n",
      " 0.10507784 0.03782873 0.04462909]\n",
      "target_probability: [0.48961019]\n",
      "loss: [-0.51038981]\n",
      "softmax output: [0.0277632  0.71362638 0.01996305 0.04838906 0.02388606 0.01436186\n",
      " 0.09510209 0.01977085 0.03713745]\n",
      "target_probability: [0.71362638]\n",
      "loss: [-0.28637362]\n",
      "end loop\n",
      "softmax output: [0.02280198 0.09749863 0.22233928 0.48140495 0.04077235 0.02607905\n",
      " 0.0241142  0.0184834  0.06650616]\n",
      "target_probability: [0.48140495]\n",
      "loss: [-0.51859505]\n",
      "softmax output: [0.03964458 0.10428672 0.11404654 0.02654705 0.04967195 0.03239955\n",
      " 0.52258512 0.07586222 0.03495626]\n",
      "target_probability: [0.52258512]\n",
      "loss: [-0.47741488]\n",
      "softmax output: [0.01863526 0.02217047 0.53123132 0.19741128 0.03173805 0.02816505\n",
      " 0.09867098 0.03330373 0.03867387]\n",
      "target_probability: [0.53123132]\n",
      "loss: [-0.46876868]\n",
      "softmax output: [0.02426793 0.74552642 0.01633033 0.04454833 0.02070528 0.01242647\n",
      " 0.08679962 0.01692847 0.03246716]\n",
      "target_probability: [0.74552642]\n",
      "loss: [-0.25447358]\n",
      "end loop\n"
     ]
    }
   ],
   "source": [
    "losses = []\n",
    "for i in range(5):\n",
    "    for k in range(len(test_words)):\n",
    "        context = X_test_array[k]\n",
    "        try:\n",
    "            target = X_test_array[k+1]\n",
    "        except IndexError:\n",
    "            break\n",
    "        W1, W2, loss = cbow_train(context, target, W1, W2, learning_rate = 0.1)\n",
    "        losses.append(loss)\n",
    "            \n",
    "    print(\"end loop\")"
   ]
  },
  {
   "cell_type": "code",
   "execution_count": 69,
   "metadata": {},
   "outputs": [
    {
     "data": {
      "text/plain": [
       "[0, 1, 2, 3, 4]"
      ]
     },
     "execution_count": 69,
     "metadata": {},
     "output_type": "execute_result"
    }
   ],
   "source": [
    "list(range(len(test_words)))"
   ]
  },
  {
   "cell_type": "code",
   "execution_count": 74,
   "metadata": {},
   "outputs": [
    {
     "data": {
      "image/png": "[encoded data removed]",
      "text/plain": [
       "<Figure size 432x288 with 1 Axes>"
      ]
     },
     "metadata": {},
     "output_type": "display_data"
    }
   ],
   "source": [
    "import matplotlib.pyplot as plt\n",
    "x = list(range(len(losses)))\n",
    "y = losses\n",
    "\n",
    "plt.plot(x,y)\n",
    "plt.xlabel('training iteration')\n",
    "plt.ylabel('loss')\n",
    "plt.title(\"Loss over 5 iterations of our corpus\")\n",
    "plt.show()"
   ]
  },
  {
   "cell_type": "markdown",
   "metadata": {},
   "source": [
    "### Questions\n",
    "\n",
    "Okay so how do make predictions based on a longer context?"
   ]
  },
  {
   "cell_type": "markdown",
   "metadata": {},
   "source": [
    "### Skipgram model\n",
    "\n",
    "In a skipgram model we output multiple categorical distributions. The skipgram model based on an input word predicts a potential context words around it.\n",
    "\n"
   ]
  },
  {
   "cell_type": "markdown",
   "metadata": {},
   "source": [
    "## Document clustering"
   ]
  },
  {
   "cell_type": "code",
   "execution_count": 100,
   "metadata": {},
   "outputs": [],
   "source": [
    "from sklearn.decomposition import PCA\n",
    "\n",
    "X1 = PCA(n_components=2).fit_transform(np.dot(X_test_array,W1))\n",
    "X2 = PCA(n_components=2).fit_transform(np.dot(np.dot(X_test_array,W1),W2))"
   ]
  },
  {
   "cell_type": "code",
   "execution_count": 101,
   "metadata": {},
   "outputs": [
    {
     "data": {
      "image/png": "[encoded data removed]",
      "text/plain": [
       "<Figure size 432x288 with 1 Axes>"
      ]
     },
     "metadata": {},
     "output_type": "display_data"
    }
   ],
   "source": [
    "fig, ax = plt.subplots()\n",
    "ax.scatter(X1[:,0], X1[:,1])\n",
    "\n",
    "for i, txt in enumerate(test_words):\n",
    "    ax.annotate(txt, (X1[i,0],X[i,1]))"
   ]
  },
  {
   "cell_type": "code",
   "execution_count": 102,
   "metadata": {},
   "outputs": [
    {
     "data": {
      "image/png": "[encoded data removed]",
      "text/plain": [
       "<Figure size 432x288 with 1 Axes>"
      ]
     },
     "metadata": {},
     "output_type": "display_data"
    }
   ],
   "source": [
    "fig, ax = plt.subplots()\n",
    "ax.scatter(X2[:,0], X2[:,1])\n",
    "\n",
    "for i, txt in enumerate(test_words):\n",
    "    ax.annotate(txt, (X2[i,0],X[i,1]))"
   ]
  },
  {
   "cell_type": "markdown",
   "metadata": {},
   "source": [
    "References:\n",
    "\n",
    "Xin Rong, word2vec Parameter Learning Explained [arXiv:1411.2738v4](https://arxiv.org/abs/1411.2738v4)  \n",
    "Xin Rong, Word Embedding Explained and Visualized - word2vec and wevi https://www.youtube.com/watch?v=D-ekE-Wlcds&feature=youtu.be  \n",
    "Xin Rong, [wevi](https://ronxin.github.io/wevi/)"
   ]
  }
 ],
 "metadata": {
  "kernelspec": {
   "display_name": "Python 3",
   "language": "python",
   "name": "python3"
  },
  "language_info": {
   "codemirror_mode": {
    "name": "ipython",
    "version": 3
   },
   "file_extension": ".py",
   "mimetype": "text/x-python",
   "name": "python",
   "nbconvert_exporter": "python",
   "pygments_lexer": "ipython3",
   "version": "3.6.5"
  }
 },
 "nbformat": 4,
 "nbformat_minor": 2
}
