{
 "cells": [
  {
   "cell_type": "markdown",
   "metadata": {},
   "source": [
    "# Continous Bag of Words (CBOW)\n",
    "\n",
    "The continous bag of words model given a context of words predicts the most likely word resulting in that context so with the example sentence:\n",
    "\n",
    "North Korea is in peace talks with South Korea.\n",
    "\n",
    "With a context of window size two for the word **with** the context would be **peace, talks, South, Korea**. The CBOW fits a model that will try to predict the target word based on the context supplied to it.\n"
   ]
  },
  {
   "cell_type": "markdown",
   "metadata": {},
   "source": [
    "## Motivation\n",
    "\n",
    "Atomic representation of words loose a lot of linguistic information. We need a representation that encapsulates context somewhat. \n",
    "\n",
    "The word2vec can also be interpreted as a weigh of representing words distributedly accross shared weights. This interpretation can be mapped to a neurological analogy of having different neurons activated and inhibited depending on the stimuli.\n",
    "\n",
    "## What can it be used for?\n",
    "\n",
    "word2vec is often used as a way to represent words which will be consumed by other deep learning models as the vector embeddings can be updated by these models to suit the task at hand.\n",
    "\n",
    "A semantic vector space model can also be used "
   ]
  },
  {
   "cell_type": "markdown",
   "metadata": {},
   "source": [
    "### Simple one word context CBOW\n",
    "\n",
    "![Simple one context cbow](simple_cbow.png)"
   ]
  },
  {
   "cell_type": "markdown",
   "metadata": {},
   "source": [
    "\n",
    "\n",
    "Initially let's tackle a simplified version of this problem limiting the context to one word. We will encode these words through the hidden layer:\n",
    "$$h=x\\cdot W^T$$\n",
    "Where $x$ is a one hot encoded representation (shape of 1,vocabulary_size) of our context word, $W$ is a matrix (shape of vocabulary_size, embedding_size) where each row represents a vector embedding for a word. Finally we apply another weight matrix $W'$ (shape of embedding_size, vocabulary_size) to produce a score:\n",
    "$$u=h\\cdot W'^T$$\n",
    "Which we then transform witht the softmax function to get a posterior probability distribution:\n",
    "$$y = softmax(u)$$\n",
    "$y_k$ is the posterior distribution of words:\n",
    "$$p(w_k|w_{input}) = y_k = \\dfrac{e^{u_k}}{\\sum_{i=1}^{vocabulary\\_size} e^{u_i}} $$\n",
    "\n",
    "Now let's look at a visualisation to see how this works:\n",
    "[wevi demo](https://ronxin.github.io/wevi/)"
   ]
  },
  {
   "cell_type": "code",
   "execution_count": 117,
   "metadata": {},
   "outputs": [],
   "source": [
    "import numpy as np\n",
    "from sklearn.feature_extraction.text import CountVectorizer\n",
    "import matplotlib"
   ]
  },
  {
   "cell_type": "code",
   "execution_count": 118,
   "metadata": {},
   "outputs": [],
   "source": [
    "vectorizer = CountVectorizer()\n",
    "corpus = [\n",
    "    'This is the first document.',\n",
    "    'This is the second second document.',\n",
    "    'And the third one.',\n",
    "    'Is this the first document?',\n",
    "]\n",
    "X = vectorizer.fit_transform(corpus)"
   ]
  },
  {
   "cell_type": "code",
   "execution_count": 119,
   "metadata": {},
   "outputs": [
    {
     "name": "stdout",
     "output_type": "stream",
     "text": [
      "This is the first document.\n",
      "[[0 0 0 0 0 0 0 0 1]\n",
      " [0 0 0 1 0 0 0 0 0]\n",
      " [0 0 0 0 0 0 1 0 0]\n",
      " [0 0 1 0 0 0 0 0 0]\n",
      " [0 1 0 0 0 0 0 0 0]]\n"
     ]
    }
   ],
   "source": [
    "test_words = corpus[0].split()\n",
    "X_test_words = vectorizer.transform(test_words)\n",
    "X_test_array = X_test_words.toarray()\n",
    "print(\"This is the first document.\")\n",
    "print(X_test_array)"
   ]
  },
  {
   "cell_type": "code",
   "execution_count": 106,
   "metadata": {},
   "outputs": [],
   "source": [
    "context = X_test_array[0] # This\n",
    "target = X_test_array[1] # is"
   ]
  },
  {
   "cell_type": "markdown",
   "metadata": {},
   "source": [
    "I have named $W=W_1$ and $W'=W_2$ in the code as I find this is a bit more intuitive"
   ]
  },
  {
   "cell_type": "code",
   "execution_count": 120,
   "metadata": {},
   "outputs": [],
   "source": [
    "vocabulary_size = len(vectorizer.vocabulary_)\n",
    "embedding_size = 5\n",
    "\n",
    "np.random.seed(42)\n",
    "W1 = np.random.rand(vocabulary_size, embedding_size)\n",
    "W2 = np.random.rand(embedding_size, vocabulary_size)\n",
    "\n",
    "def softmax(x):\n",
    "    \"\"\"Compute softmax values for each sets of scores in x.\"\"\"\n",
    "    e_x = np.exp(x - np.max(x))\n",
    "    return e_x / e_x.sum()"
   ]
  },
  {
   "cell_type": "code",
   "execution_count": 121,
   "metadata": {},
   "outputs": [
    {
     "name": "stdout",
     "output_type": "stream",
     "text": [
      "[0.08086022 0.09663768 0.09250083 0.07968813 0.13716104 0.07346556\n",
      " 0.1752475  0.15294101 0.11149803]\n",
      "[0.09663768]\n"
     ]
    }
   ],
   "source": [
    "x = context\n",
    "label = target\n",
    "learning_rate = 0.1\n",
    "\n",
    "h = np.dot(W1.T, x)\n",
    "u = np.dot(W2.T, h)\n",
    "y_prediction = softmax(u)\n",
    "\n",
    "print(y_prediction)\n",
    "print(y_prediction[label==1])"
   ]
  },
  {
   "cell_type": "markdown",
   "metadata": {},
   "source": [
    "### Training objective\n",
    "\n",
    "For one sample our training objective is to maximise the probability of observing the target word given the input word $w_{input}$:\n",
    "$$max(p(w_{target}|w_{input}) = max(y_{k*})$$\n",
    "$$ = max(log(y_{k*}))$$\n",
    "$$ = max(log(\\dfrac{e^{u_k*}}{\\sum_{i=1}^{vocabulary\\_size} e^{u_i}}))$$\n",
    "\n",
    "#### Loss function\n",
    "\n",
    "As such we can define our loss function as:\n",
    "$$E(u_{k*}) = -log(\\dfrac{e^{u_{k*}}}{\\sum_{i=1}^{vocabulary\\_size} e^{u_i}})$$\n",
    "$$E = -log(softmax) $$\n",
    "\n",
    "Where $k*$ represents the index in the output layer for $w_target$\n",
    "\n",
    "\n",
    "#### Derivative of the loss function\n",
    "\n",
    "Now let's derive the derivative of the loss function with regards to the ${k*}$th unit's net input $u_{k*}$: $\\dfrac{\\delta E}{\\delta u_{k*}}$\n",
    "\n",
    "With $softmax(u_j) = \\dfrac{e^{u_j}}{\\sum_{i=1}^{vocabulary\\_size} e^{u_i}}$\n",
    "\n",
    "First of all let's subsitute the sum from the $softmax$ function:\n",
    "\n",
    "$$\\sigma = {\\sum_{i=1}^{vocabulary\\_size} e^{u_i}}$$\n",
    "\n",
    "For $u_j = u_{k*}$ we can use the quotient rule $f(x) = g(x)/h(x)$ => $f'(x) = \\dfrac{g'(x)h(x)-g(x)h'(x)}{[h(x)]^2]}$:\n",
    "\n",
    "$$ \\dfrac{\\delta softmax}{\\delta u_{k*}} = \\dfrac{e^{u_j}\\sigma - e^{2u_j}}{\\sigma^2}$$\n",
    "\n",
    "For $u_j \\neq u_{k*} $ then $e^{u_j}$ is treated as a constant:\n",
    "\n",
    "$$ \\dfrac{\\delta softmax}{\\delta u_{k*}} = \\dfrac{-e^{u_j} e^{u_k*}}{\\sigma^2} $$\n",
    "\n",
    "Now that we are done bottom up let's look at the derivative top down:\n",
    "\n",
    "$$ \\dfrac{\\delta E}{\\delta softmax} = -(\\dfrac{1}{softmax(u_{k*})})$$\n",
    "\n",
    "Using the chain rule:\n",
    "\n",
    "$$ \\dfrac{\\delta E}{\\delta u_{k*}} = - \\dfrac{1}{\\dfrac{e^{u_j}}{\\sigma}} \\dfrac{\\delta softmax}{\\delta u_{k*}} = -\\dfrac{\\sigma}{e^{u_j}} \\dfrac{\\delta softmax}{\\delta u_{k*}}$$\n",
    "\n",
    "Considering $u_j$ and $u_{k*}$ if $u_j = u_{k*}$:\n",
    "\n",
    "$$ \\dfrac{\\delta E}{\\delta u_{k*}} = \\dfrac{e^{u_{k*}} - \\sigma}{\\sigma} = \\dfrac{e^{u_{k*}}}{\\sigma} - 1 = softmax -1 $$\n",
    "\n",
    "And for $u_j \\neq u_{k*}$:\n",
    "\n",
    "$$ \\dfrac{\\delta E}{\\delta u_{k*}} = \\dfrac{e^{u_{k*}}}{\\sigma} = softmax$$\n",
    "\n",
    "These two equations can be combined using the Kronecker delta, which is a function that produces one if the two variables are equalo otherwise 0:\n",
    "\n",
    "$$ \\dfrac{\\delta E}{\\delta u_{k*}} = softmax - \\delta_{jk*} $$\n",
    "\n",
    "The Kronecker delta is the same here as our one hot vector labels as they will only be 1 at the index $k*$ as such this is the same as the prediction error $e_k*$ of the output layer:\n",
    "\n",
    "$$ y_{k*} - target $$\n",
    "\n",
    "I won't derive the rest of the derivatives but after this bit you just need to continue moving down the layers to derive $\\dfrac{\\delta E}{\\delta W'}$ and $\\dfrac{\\delta E}{\\delta W}$\n",
    "\n",
    "For $\\dfrac{\\delta E}{\\delta W'}$ based on the above derived derivative E with respect to the output of the output layer we need to take the derivative of the output layer with regards to W'.\n",
    "\n",
    "For $\\dfrac{\\delta E}{\\delta W}$:\n",
    "You need to take the derivative of E with regards to the output of the hidden layer and then the derivative of the hidden layer with regards to W. \n"
   ]
  },
  {
   "cell_type": "code",
   "execution_count": 127,
   "metadata": {},
   "outputs": [],
   "source": [
    "e = y_prediction - label \n",
    "dW2 = np.outer(h, e)\n",
    "dW1 = np.outer(x, np.dot(W2, e)) # np.dot(W2, e) is the sum of all output vectors\n",
    "                                # weighted by their prediction error\n",
    "\n",
    "new_W1 = W1 - learning_rate * dW1\n",
    "new_W2 = W2 - learning_rate * dW2\n",
    "\n",
    "W1 = new_W1\n",
    "W2 = new_W2"
   ]
  },
  {
   "cell_type": "code",
   "execution_count": 128,
   "metadata": {},
   "outputs": [
    {
     "name": "stdout",
     "output_type": "stream",
     "text": [
      "softmax output: [0.07201852 0.2108087  0.08413259 0.07584392 0.12357981 0.06122894\n",
      " 0.14154637 0.11591829 0.11492287]\n",
      "target_probability: [0.2108087]\n",
      "loss: [-0.7891913]\n"
     ]
    }
   ],
   "source": [
    "x = context\n",
    "label = target\n",
    "learning_rate = 0.1\n",
    "\n",
    "h = np.dot(W1.T, x)\n",
    "u = np.dot(W2.T, h)\n",
    "y_prediction = softmax(u)\n",
    "\n",
    "print(\"softmax output:\", y_prediction)\n",
    "print(\"target_probability:\",y_prediction[label==1])\n",
    "e = y_prediction - label\n",
    "loss = e[label==1]\n",
    "print(\"loss:\",e[label==1])"
   ]
  },
  {
   "cell_type": "code",
   "execution_count": 129,
   "metadata": {},
   "outputs": [],
   "source": [
    "def cbow_train(context, target, W1, W2, learning_rate = 0.1):\n",
    "    x = context\n",
    "    label = target\n",
    "\n",
    "    h = np.dot(W1.T, x)\n",
    "    u = np.dot(W2.T, h)\n",
    "    y_prediction = softmax(u)\n",
    "\n",
    "    print(\"softmax output:\", y_prediction)\n",
    "    print(\"target_probability:\",y_prediction[label==1])\n",
    "    e = y_prediction - label\n",
    "    loss = -e[label==1]\n",
    "    print(\"loss:\",e[label==1])\n",
    "    dW2 = np.outer(h, e)\n",
    "    dW1 = np.outer(x, np.dot(W2, e)) # np.dot(W2, e) is a vector of all output vectors\n",
    "                                    # weighted by their prediction error\n",
    "\n",
    "    new_W1 = W1 - learning_rate * dW1\n",
    "    new_W2 = W2 - learning_rate * dW2\n",
    "\n",
    "    return new_W1, new_W2, loss\n",
    "    \n",
    "def cbow_predict(context, target, W1, W2, learning_rate = 0.1):\n",
    "    x = context\n",
    "    label = target\n",
    "\n",
    "    h = np.dot(W1.T, x)\n",
    "    u = np.dot(W2.T, h)\n",
    "    y_prediction = softmax(u)\n",
    "\n",
    "    print(\"softmax output:\", y_prediction)\n",
    "    print(\"target_probability:\",y_prediction[label==1])"
   ]
  },
  {
   "cell_type": "code",
   "execution_count": 130,
   "metadata": {},
   "outputs": [
    {
     "name": "stdout",
     "output_type": "stream",
     "text": [
      "softmax output: [0.07315781 0.22004779 0.09167704 0.10449116 0.09716284 0.07209735\n",
      " 0.0917434  0.07559759 0.17402503]\n",
      "target_probability: [0.10449116]\n",
      "loss: [-0.89550884]\n",
      "softmax output: [0.08867913 0.1657488  0.09327862 0.09125868 0.10817294 0.07937065\n",
      " 0.13337996 0.11593236 0.12417886]\n",
      "target_probability: [0.13337996]\n",
      "loss: [-0.86662004]\n",
      "softmax output: [0.0741113  0.17277255 0.07079252 0.10571635 0.07766936 0.09953881\n",
      " 0.11669833 0.11724306 0.16545772]\n",
      "target_probability: [0.07079252]\n",
      "loss: [-0.92920748]\n",
      "softmax output: [0.10005253 0.2117071  0.07864125 0.06677526 0.09107025 0.06339903\n",
      " 0.15590949 0.10762058 0.12482452]\n",
      "target_probability: [0.2117071]\n",
      "loss: [-0.7882929]\n",
      "end loop\n",
      "softmax output: [0.07056356 0.21639123 0.10298561 0.11615179 0.09514692 0.07056119\n",
      " 0.09185457 0.07170483 0.1646403 ]\n",
      "target_probability: [0.11615179]\n",
      "loss: [-0.88384821]\n",
      "softmax output: [0.08671483 0.16836197 0.09852198 0.09185913 0.10511244 0.07723086\n",
      " 0.14085171 0.11526127 0.11608583]\n",
      "target_probability: [0.14085171]\n",
      "loss: [-0.85914829]\n",
      "softmax output: [0.07068701 0.16638449 0.08887478 0.11723163 0.07797492 0.09475854\n",
      " 0.12049051 0.11052083 0.15307728]\n",
      "target_probability: [0.08887478]\n",
      "loss: [-0.91112522]\n",
      "softmax output: [0.09303066 0.24144053 0.07878952 0.06831332 0.08647811 0.05820784\n",
      " 0.15740877 0.09791488 0.11841638]\n",
      "target_probability: [0.24144053]\n",
      "loss: [-0.75855947]\n",
      "end loop\n",
      "softmax output: [0.06782131 0.21244475 0.11433267 0.12821849 0.09292377 0.06881768\n",
      " 0.09088679 0.06782197 0.15673257]\n",
      "target_probability: [0.12821849]\n",
      "loss: [-0.87178151]\n",
      "softmax output: [0.08456864 0.17174857 0.10325967 0.09140573 0.10193634 0.07496391\n",
      " 0.14905993 0.11449181 0.10856538]\n",
      "target_probability: [0.14905993]\n",
      "loss: [-0.85094007]\n",
      "softmax output: [0.06695296 0.15935799 0.10862478 0.12830364 0.0775134  0.08991084\n",
      " 0.12320457 0.10400936 0.14212245]\n",
      "target_probability: [0.10862478]\n",
      "loss: [-0.89137522]\n",
      "softmax output: [0.08587028 0.27495121 0.07789654 0.06915    0.08118708 0.05294427\n",
      " 0.15844415 0.08843057 0.11112589]\n",
      "target_probability: [0.27495121]\n",
      "loss: [-0.72504879]\n",
      "end loop\n",
      "softmax output: [0.0649582  0.20795402 0.12593192 0.14107331 0.09050902 0.06687983\n",
      " 0.08890377 0.06393964 0.14985028]\n",
      "target_probability: [0.14107331]\n",
      "loss: [-0.85892669]\n",
      "softmax output: [0.08225686 0.17568039 0.10752174 0.08990124 0.09865012 0.07258259\n",
      " 0.15831342 0.11361396 0.10147967]\n",
      "target_probability: [0.15831342]\n",
      "loss: [-0.84168658]\n",
      "softmax output: [0.06298998 0.15149157 0.13035547 0.13909633 0.07633984 0.08500829\n",
      " 0.12496375 0.09765511 0.13209967]\n",
      "target_probability: [0.13035547]\n",
      "loss: [-0.86964453]\n",
      "softmax output: [0.0785884  0.31252014 0.07581935 0.0691628  0.07528889 0.04767192\n",
      " 0.15871128 0.07917548 0.10306172]\n",
      "target_probability: [0.31252014]\n",
      "loss: [-0.68747986]\n",
      "end loop\n",
      "softmax output: [0.06198345 0.20268142 0.13796242 0.15511374 0.08788931 0.06474311\n",
      " 0.085939   0.06004396 0.14364359]\n",
      "target_probability: [0.15511374]\n",
      "loss: [-0.84488626]\n",
      "softmax output: [0.07978832 0.17989222 0.1113167  0.08734685 0.09525367 0.07009451\n",
      " 0.16896069 0.11260922 0.09473784]\n",
      "target_probability: [0.16896069]\n",
      "loss: [-0.83103931]\n",
      "softmax output: [0.05884452 0.14262167 0.15451959 0.1496814  0.07447664 0.08002643\n",
      " 0.12580831 0.09138445 0.12263699]\n",
      "target_probability: [0.15451959]\n",
      "loss: [-0.84548041]\n",
      "softmax output: [0.07124563 0.35405788 0.07249898 0.06826607 0.06892248 0.04247137\n",
      " 0.15793055 0.07020742 0.09439963]\n",
      "target_probability: [0.35405788]\n",
      "loss: [-0.64594212]\n",
      "end loop\n"
     ]
    }
   ],
   "source": [
    "losses = []\n",
    "for i in range(5):\n",
    "    for k in range(len(test_words)):\n",
    "        context = X_test_array[k]\n",
    "        try:\n",
    "            target = X_test_array[k+1]\n",
    "        except IndexError:\n",
    "            break\n",
    "        W1, W2, loss = cbow_train(context, target, W1, W2, learning_rate = 0.1)\n",
    "        losses.append(loss)\n",
    "            \n",
    "    print(\"end loop\")"
   ]
  },
  {
   "cell_type": "code",
   "execution_count": 113,
   "metadata": {},
   "outputs": [
    {
     "data": {
      "text/plain": [
       "[0, 1, 2, 3, 4]"
      ]
     },
     "execution_count": 113,
     "metadata": {},
     "output_type": "execute_result"
    }
   ],
   "source": [
    "list(range(len(test_words)))"
   ]
  },
  {
   "cell_type": "code",
   "execution_count": 114,
   "metadata": {},
   "outputs": [
    {
     "data": {
      "image/png": "[encoded data removed]",
      "text/plain": [
       "<Figure size 432x288 with 1 Axes>"
      ]
     },
     "metadata": {},
     "output_type": "display_data"
    }
   ],
   "source": [
    "import matplotlib.pyplot as plt\n",
    "x = list(range(len(losses)))\n",
    "y = losses\n",
    "\n",
    "plt.plot(x,y)\n",
    "plt.xlabel('training iteration')\n",
    "plt.ylabel('loss')\n",
    "plt.title(\"Loss over 5 iterations of our corpus\")\n",
    "plt.show()"
   ]
  },
  {
   "cell_type": "markdown",
   "metadata": {},
   "source": [
    "### Questions\n",
    "\n",
    "Okay so how do make predictions based on a longer context?"
   ]
  },
  {
   "cell_type": "markdown",
   "metadata": {},
   "source": [
    "### Skipgram model\n",
    "\n",
    "In a skipgram model we output multiple categorical distributions. The skipgram model based on an input word predicts a potential context words around it.\n",
    "\n"
   ]
  },
  {
   "cell_type": "markdown",
   "metadata": {},
   "source": [
    "## Document clustering"
   ]
  },
  {
   "cell_type": "code",
   "execution_count": 140,
   "metadata": {},
   "outputs": [],
   "source": [
    "from sklearn.decomposition import PCA\n",
    "\n",
    "X1 = PCA(n_components=2).fit_transform(np.dot(X_test_array, W1))\n",
    "X2 = PCA(n_components=2).fit_transform(np.dot(np.dot(X_test_array,W1),W2))"
   ]
  },
  {
   "cell_type": "code",
   "execution_count": 148,
   "metadata": {},
   "outputs": [
    {
     "data": {
      "text/plain": [
       "Text(0.5,1,'Input vector pca (based on W1)')"
      ]
     },
     "execution_count": 148,
     "metadata": {},
     "output_type": "execute_result"
    },
    {
     "data": {
      "image/png": "[encoded data removed]",
      "text/plain": [
       "<Figure size 432x288 with 1 Axes>"
      ]
     },
     "metadata": {},
     "output_type": "display_data"
    }
   ],
   "source": [
    "fig, ax = plt.subplots()\n",
    "ax.scatter(X1[:,0], X1[:,1])\n",
    "\n",
    "for i, txt in enumerate(test_words):\n",
    "    ax.annotate(txt, (X1[i,0],X1[i,1]))\n",
    "    \n",
    "plt.title(\"Input vector pca (based on W1)\")"
   ]
  },
  {
   "cell_type": "code",
   "execution_count": 147,
   "metadata": {},
   "outputs": [
    {
     "data": {
      "text/plain": [
       "Text(0.5,1,'Output vector pca')"
      ]
     },
     "execution_count": 147,
     "metadata": {},
     "output_type": "execute_result"
    },
    {
     "data": {
      "image/png": "[encoded data removed]",
      "text/plain": [
       "<Figure size 432x288 with 1 Axes>"
      ]
     },
     "metadata": {},
     "output_type": "display_data"
    }
   ],
   "source": [
    "fig, ax = plt.subplots()\n",
    "ax.scatter(X2[:,0], X2[:,1])\n",
    "\n",
    "for i, txt in enumerate(test_words):\n",
    "    ax.annotate(txt, (X2[i,0],X2[i,1]))\n",
    "plt.title(\"Output vector pca (based on W2)\")"
   ]
  },
  {
   "cell_type": "markdown",
   "metadata": {},
   "source": [
    "### References:\n",
    "\n",
    "Xin Rong, word2vec Parameter Learning Explained [arXiv:1411.2738v4](https://arxiv.org/abs/1411.2738v4)  \n",
    "Xin Rong, Word Embedding Explained and Visualized - word2vec and wevi https://www.youtube.com/watch?v=D-ekE-Wlcds&feature=youtu.be  \n",
    "Xin Rong, [wevi](https://ronxin.github.io/wevi/)"
   ]
  },
  {
   "cell_type": "markdown",
   "metadata": {},
   "source": [
    "### Questions:\n",
    "\n",
    "If you have any questions with regards to the notebook or the talk get in touch at cswart@outlook.com"
   ]
  }
 ],
 "metadata": {
  "kernelspec": {
   "display_name": "Python 3",
   "language": "python",
   "name": "python3"
  },
  "language_info": {
   "codemirror_mode": {
    "name": "ipython",
    "version": 3
   },
   "file_extension": ".py",
   "mimetype": "text/x-python",
   "name": "python",
   "nbconvert_exporter": "python",
   "pygments_lexer": "ipython3",
   "version": "3.6.5"
  }
 },
 "nbformat": 4,
 "nbformat_minor": 2
}
